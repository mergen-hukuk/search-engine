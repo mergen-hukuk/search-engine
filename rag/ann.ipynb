{
 "cells": [
  {
   "cell_type": "code",
   "execution_count": 1,
   "metadata": {},
   "outputs": [],
   "source": [
    "from pyspark.ml.feature import BucketedRandomProjectionLSH\n",
    "from pyspark.ml.linalg import Vectors\n",
    "from pyspark.sql import SparkSession"
   ]
  },
  {
   "cell_type": "code",
   "execution_count": 2,
   "metadata": {},
   "outputs": [
    {
     "name": "stderr",
     "output_type": "stream",
     "text": [
      "24/12/22 17:47:54 WARN Utils: Your hostname, Anls-MacBook-Pro.local resolves to a loopback address: 127.0.0.1; using 192.168.0.21 instead (on interface en0)\n",
      "24/12/22 17:47:54 WARN Utils: Set SPARK_LOCAL_IP if you need to bind to another address\n",
      "Setting default log level to \"WARN\".\n",
      "To adjust logging level use sc.setLogLevel(newLevel). For SparkR, use setLogLevel(newLevel).\n",
      "24/12/22 17:47:54 WARN NativeCodeLoader: Unable to load native-hadoop library for your platform... using builtin-java classes where applicable\n"
     ]
    }
   ],
   "source": [
    "spark = SparkSession.builder.appName(\"ApproximateNN\").getOrCreate()"
   ]
  },
  {
   "cell_type": "code",
   "execution_count": 3,
   "metadata": {},
   "outputs": [],
   "source": [
    "data = [\n",
    "    (0, Vectors.dense([0.1, 0.2, 0.3])),\n",
    "    (1, Vectors.dense([0.4, 0.5, 0.6])),\n",
    "    (2, Vectors.dense([0.7, 0.8, 0.9])),\n",
    "    # Add more data as needed\n",
    "]\n",
    "df = spark.createDataFrame(data, [\"id\", \"embedding\"])"
   ]
  },
  {
   "cell_type": "code",
   "execution_count": 4,
   "metadata": {},
   "outputs": [
    {
     "name": "stderr",
     "output_type": "stream",
     "text": [
      "24/12/22 17:47:57 WARN InstanceBuilder: Failed to load implementation from:dev.ludovic.netlib.blas.JNIBLAS\n"
     ]
    }
   ],
   "source": [
    "lsh = BucketedRandomProjectionLSH(\n",
    "    inputCol=\"embedding\",\n",
    "    outputCol=\"hashes\",\n",
    "    bucketLength=2.0,\n",
    "    numHashTables=3\n",
    ")\n",
    "model = lsh.fit(df)"
   ]
  },
  {
   "cell_type": "code",
   "execution_count": 5,
   "metadata": {},
   "outputs": [],
   "source": [
    "query_vector = Vectors.dense([0.15, 0.25, 0.35])"
   ]
  },
  {
   "cell_type": "code",
   "execution_count": 6,
   "metadata": {},
   "outputs": [
    {
     "name": "stdout",
     "output_type": "stream",
     "text": [
      "+---+-------------------+\n",
      "| id|            distCol|\n",
      "+---+-------------------+\n",
      "|  0|0.08660254037844384|\n",
      "|  1| 0.4330127018922193|\n",
      "|  2| 0.9526279441628825|\n",
      "+---+-------------------+\n",
      "\n"
     ]
    }
   ],
   "source": [
    "result = model.approxNearestNeighbors(df, query_vector, 5)\n",
    "result.select(\"id\", \"distCol\").show()"
   ]
  }
 ],
 "metadata": {
  "kernelspec": {
   "display_name": "big_data",
   "language": "python",
   "name": "python3"
  },
  "language_info": {
   "codemirror_mode": {
    "name": "ipython",
    "version": 3
   },
   "file_extension": ".py",
   "mimetype": "text/x-python",
   "name": "python",
   "nbconvert_exporter": "python",
   "pygments_lexer": "ipython3",
   "version": "3.9.21"
  }
 },
 "nbformat": 4,
 "nbformat_minor": 2
}
