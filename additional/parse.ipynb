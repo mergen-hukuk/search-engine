{
 "cells": [
  {
   "cell_type": "code",
   "execution_count": 13,
   "metadata": {},
   "outputs": [],
   "source": [
    "import os\n",
    "import random\n",
    "import json\n",
    "import re\n",
    "from lxml import html\n",
    "\n",
    "year = '2024'\n",
    "doc_dir = os.path.join('data', 'emsaller', year, 'docs')"
   ]
  },
  {
   "cell_type": "code",
   "execution_count": 14,
   "metadata": {},
   "outputs": [],
   "source": [
    "doc = random.choice(os.listdir(doc_dir))"
   ]
  },
  {
   "cell_type": "code",
   "execution_count": 15,
   "metadata": {},
   "outputs": [],
   "source": [
    "with open(os.path.join(doc_dir, doc)) as f:\n",
    "    data = json.load(f)"
   ]
  },
  {
   "cell_type": "code",
   "execution_count": 16,
   "metadata": {},
   "outputs": [
    {
     "name": "stdout",
     "output_type": "stream",
     "text": [
      "\n",
      " [tab]           TÜRK MİLLETİ ADINA\n",
      " [tab]  [tab]     T.C.\n",
      " [tab]  [tab]   BURSA\n",
      " [tab] 3. ASLİYE TİCARET MAHKEMESİ\n",
      "\n",
      " [tab]  [tab]  [tab]  [tab]  [tab]  [tab]  [tab]  [tab]  [tab]  [tab]  [tab]  [tab]  [tab]  [tab] GEREKÇELİ KARAR\n",
      "\n",
      "ESAS NO [tab] : 2024/ \n",
      "KARAR NO [tab] : 2024/\n",
      "\n",
      "HAKİM [tab] : \n",
      "KATİP [tab] : \n",
      "\n",
      "DAVACI [tab] :   \n",
      "VEKİLİ [tab] : Av. \n",
      "DAVALI [tab] : \n",
      "\n",
      "DAVA [tab]  [tab] : Sıra Cetveline İtiraz (İcra Yoluyla Takipten Kaynaklanan Sıra Cetveline İtiraz)\n",
      "DAVA TARİHİ [tab] : 07/10/2024\n",
      "KARAR TARİHİ [tab] : 09/10/2024\n",
      "\n",
      "Mahkememizde açılan davanın açık muhakemesi sonunda; [tab] \n",
      "GEREĞİ DÜŞÜNÜLDÜ :  \n",
      "DAVA: Davacı vekili dava dilekçesinde özetle: ... banka alacakları icra dairesinin 2024/... E. Sayılı icra dosyası aracılığı dava dışı ... aleyhine rehnin paraya çevrilmesi yolu ile icra takibi başlatıldığını, Müvekkili ... İnşaat Ticaret A.Ş.'nin dava dışı borçlunun rehin sözleşmesi ile alacaklısı olduğunu. Rehnin paraya çevrilmesi yolu ile icra takibine geçerek ... Banka Alacakları İcra Dairesinin 2024/... E. Sayılı icra dosyası aracılığı ile dava dışı borçlu ...'ne ait ... plakalı aracın satışını gerçekleştiren ... ... Bankasının sıra cetvelinde gösterilen sıra ve alacak tutarının gerçeği yansıtmadığını. Davalı ... ... Bankası'nın rehnin paraya çevrilmesi yolu ile başlattığı icra takibinde sunmuş olduğu takip dayanağı rehin sözleşmesinde rehin veren ... ile rehin alan ... ... Bankası'nın imzalarının bulunmadığını. ... ... Bankası'nın sunduğu rehin sözleşmesinde, kanunun aradığı şekilde borcun miktarı yada rehnin ne miktar için güvence teşkil ettiğinin yer almadığını.  Bu nedenle ... Banka Alacakları İcra Dairesi 2024/... E. Sayılı dosyanın 24.09.2024 tarihli sıra cetveline itirazının kabulü ile, birinci sırada bulunan davalı ... ... Bankasının dosyadaki alacağının ve sırasının tespit edilerek sıra cetvelinin düzeltilmesine, yargılama giderleri ve vekalet ücretinin davalıya yükletilmesine karar verilmesini talep ve dava etmiştir. \n",
      "GEREKÇE:\n",
      "Dava ... Banka Alacakları İcra Dairesi 2024/... E. Sayılı dosyanın 24.09.2024 tarihli sıra cetveline yapılan itiraz davasıdır. ... Bölge Adliye Mahkemesi 4. Hukuk Dairesinin 25/11/2021 tarih ve 2021/ Esas 2021/ Karar sayılı ilamı;\"6102 sayılı TTK'nın 4. maddesinde, bu hükümde sayılan mutlak ticari davaların yanısıra \"Her iki tarafın da ticari işletmesi ile ilgili hususlardan doğan hukuk davaları ticari dava sayılır.\" hükmü ile de nispi ticari davaya ilişkin de düzenleme yapılmış olup, uyuşmazlığın nisbi ticari dava niteliğini kazanabilmesi için tarafların her ikisinin de tacir olması ve uyuşmazlık konusu işin tarafların ticari işletmesi ile ilgili olması gerekir.01/10/2011 tarihinden sonra açılan sıra cetveline itiraz davaları için görevli mahkeme HMK'nın 2/1. maddesi uyarınca Asliye Hukuk Mahkemesidir. (. ...:) ( ... Bam 4. Hukuk Dairesi 2018/ esas, 2018/ karar, ... 23. Hukuk Dairesi 2016/... esas 2020/  karar )Dolayısıyla tarafların tacir olduğu ancak taraflar arasında ticari ilişki bulunmadığı, görevli mahkemenin asliye hukuk mahkemesi olduğu anlaşılmış ve ....Asliye Hukuk Mahkemesinin yargı yeri olarak belirlenmesi gerekmiştir.\" şeklindedir.Tüm dosya kapsamı incelendiğinde, mevcut dava haciz sebebiyle davalının alacağının muvazaalı olduğu iddiası ile sıraya ve davalının alacağına karşı sıra cetveline itiraz davası olduğu, her ne kadar iki taraf tacir olsa da, davacı ile davalı arasında ticari bir ilişki bulunmadığı, davacının davalının muvazaalı alacağına dayandığı, davanın ticari nitelikte bir dava olmadığı, taraflar arasındaki hukuki ilişki bulunmamasına ilişkin durumu değiştirmeyeceği, davacı ile davalı arasında  muvazaa nedenine dayalı sıra cetvelinin iptali istemini inceleme görevinin İ.İ.K.'nın 142/1. Maddesi uyarınca Asliye Hukuk Mahkemesi'ne ait olduğu anlaşılmakla, davanın usulden reddine dair  aşağıdaki şekilde karar verilmiştir.  [tab] \n",
      "H Ü K Ü M : Gerekçesi yukarıda açıklandığı üzere ; \n",
      "Mahkememizin GÖREVSİZLİĞİNE, \n",
      "Davanın görev dava şartı yokluğu nedeniyle USULDEN REDDİNE, \n",
      "Davanın konusu itibariyle davaya bakmaya görevli mahkeme ASLİYE HUKUK MAHKEMESİ olduğundan HMK 20. Maddesi uyarınca kararın kesinleşmesinden itibaren 2 haftalık süre içinde talep edilmesi halinde Görevli ... NÖBETÇİ ASLİYE HUKUK MAHKEMESİNE GÖNDERİLMESİNE, \n",
      "HMK 331/2.madde gereğince; yargılama gideri harç, yargılama gideri ve vekalet ücreti konusunda karar verilmesine yer olmadığına,\n",
      "Dair gerekçeli kararın tebliğinden itibaren 2 hafta içerisinde mahkememize iletilecek bir dilekçe ile ... Bölge Adliye Mahkemeleri Nezdinde istinaf kanun yolu açık olmak üzere dosya üzerinde yapılan inceleme sonucunda  karar verildi. 09/10/2024\n",
      "\n",
      "\n",
      "Katip \n",
      " ✍e-imzalı \n",
      " \n",
      " \n",
      "Hakim \n",
      "✍e-imzalı  \n",
      "\n",
      "\n",
      "\n",
      "\n",
      " [tab] "
     ]
    }
   ],
   "source": [
    "for i in html.fromstring(data['data'].replace('<br>', '\\n')).find('.//body').text_content().split('\\t'):\n",
    "    print(i, end=' [tab] ')"
   ]
  },
  {
   "cell_type": "code",
   "execution_count": null,
   "metadata": {},
   "outputs": [
    {
     "name": "stdout",
     "output_type": "stream",
     "text": [
      "   T.C. ANKARA BÖLGE ADLİYE MAHKEMESİ    20. HUKUK DAİRESİ     \n",
      "\n",
      "                     T.C.\n",
      "                 ANKARA \n",
      "BÖLGE ADLİYE MAHKEMESİ\n",
      "         20.HUKUK DAİRESİ \n",
      "\n",
      "ESAS NO          : 2024/1401 \n",
      "KARAR NO  \t  : 2024/1731\n",
      "T Ü R K  M İ L L E T İ  A D I N A\n",
      "                                                                                            K A R A R \n",
      "\n",
      "BAŞKAN \t\t: [CENSORED] \t     [CENSORED]\n",
      "ÜYE\t\t: [CENSORED]  [CENSORED]\n",
      "ÜYE\t\t: [CENSORED]\t     [CENSORED]\n",
      "KATİP\t\t: [CENSORED] \t     [CENSORED]\n",
      "\n",
      "İNCELENEN KARARIN\n",
      "MAHKEMESİ\t: ANKARA 4. FİKRİ VE SINAÎ HAKLAR HUKUK \n",
      "\t\t  MAHKEMESİ\n",
      "TARİHİ\t\t: 13/12/2023\n",
      "NUMARASI\t\t: 2022/480 E.  -  2023/486 K.\n",
      "\n",
      "DAVACI\t\n",
      "VEKİLLERİ\t\n",
      "DAVALI\t:5\n",
      "\t  \n",
      "DAVANIN KONUSU\t: FSEK'e Dayalı Tecavüzün Ref'i, Önlenmesi ve Tazminat\n",
      "\n",
      "\tTaraflar arasında görülen davada Ankara 4. Fikri ve Sınaî Haklar Hukuk Mahkemesince verilen 13/12/2023 Tarih ve 2022/480 Esas - 2023/486 Karar sayılı kararın Dairemizce incelenmesi taraflarca istenmiş ve istinaf dilekçesinin süresi içinde verildiği anlaşılmış olmakla, dosya içerisindeki dilekçe, layihalar, duruşma tutanakları ve tüm belgeler okunup, incelendikten sonra işin gereği görüşülüp, düşünüldü:\n",
      "\n",
      "TARAFLARIN İDDİA VE SAVUNMALARININ ÖZETİ\t:Davacı vekili, müvekkilinin  eserinin kopyasını [CENSORED] adlı kurumun sergisinde gördüğünü, kopya eserin davalı tarafından internet sitesinde satışa çıkarıldığını, sosyal medya hesabında eseri kendi fikir ürünü gibi paylaşmaya devam ettiğini, davalının bu eseri çoğalttığını, müvekkilin FSEK md.22 uyarınca çoğaltma hakkının, md.23 uyarınca yayma hakkınının ihlal edildiğini ileri sürerek, devam etmekte olan hak ihlali nedeniyle tecavüzün ref'ini, FSEK'in 68/1 maddesi uyarınca belirlenecek olan zararın giderilmesini talep ve dava etmiştir.\n",
      " Davalı, iddiaların asılsız olduğunu, davacının eseri kendisinden sonra yapmış olma ihtimalinin yüksek olduğunu, davacı ile daha önce hiçbir ortak alanda bulunmadığını, kendisinin ismini dahi duymadığını ve tanımadığını savunarak, davanın reddini istemiştir. \n",
      "\n",
      "İLK DERECE MAHKEMESİ KARARININ ÖZETİ: Mahkemece iddia, savunma ve tüm dosya kapsamından, taraf eserleri arasında intihalin oluşmadığı, fikirlerin örtüşmesi durumunun olduğu gerekçesiyle davanın reddine karar verilmiştir.  \n",
      "\n",
      "İLERİ SÜRÜLEN İSTİNAF SEBEPLERİ : Davacı vekili istinaf başvuru dilekçesinde, davalının sosyal medya hesabında müvekkiline ait eseri kendi fikir ürünü gibi paylaştığını, davalının bu eseri çoğalttığını, müvekkilin FSEK md.22 uyarınca çoğaltma hakkının, md.23 uyarınca yayma hakkınının ihlal edildiğini ileri sürerek, ilk derece mahkeme kararının istinaf incelemesi yapılarak kaldırılmasına ve davanın kabulüne karar verilmesini istemiştir. \n",
      "\n",
      "GEREKÇE\t: Dava, FSEK'e dayalı tecavüzün ref'i, önlenmesi, tazminat istemine ilişkindir.\n",
      "\tİnceleme, 6100 sayılı HMK'nın 355. madde hükmü uyarınca istinaf dilekçesinde belirtilen sebeplerle sınırlı olarak ve kamu düzenine aykırı hususların olup olmadığı gözetilerek yapılmıştır.\n",
      "\tHMK'nın 307. maddesine göre davadan feragat, davacının talep sonucundan kısmen veya tamamen vazgeçmesidir. Feragat ile davacı, dava konusu haktan maddî hukuk açısından geri dönülemeyecek biçimde vazgeçtiğinden, bu konuda artık herhangi bir hak talep etmesi kural olarak mümkün değildir. Feragat, bir inşai hakkın kullanılması niteliği taşır, karşı tarafın veya mahkemenin kabulüne gerek yoktur ve dosyaya vardığı anda kendiliğinden sonuç doğurur. Kural olarak davacı, her davadan hiçbir kayda tabi olmaksızın feragat edebilir. Kayıtsız ve şartsız olması gereken feragat, dilekçeyle veya yargılama sırasında sözlü olarak yapılır. HMK'nın 311. maddesine göre feragat, kesin hüküm gibi hukuki sonuç doğurur. \n",
      "\tSomut uyuşmazlıkta her ne kadar mahkemece davanın reddine karar verilmiş ise de karardan sonra davacı vekili Av[CENSORED] tarafından sunulan 30/10/2024 tarihli dilekçe ile davadan feragat edildiğinin bildirildiği, Ankara 65. Noterliğince düzenlenen 05/09/2022 tarih ve 30832 Y. numaralı vekaletname ile Av[CENSORED]'a davadan feragat yetkisinin verilmiş olduğu ve Av. [CENSORED]'ın yetki belgesi ile davacı vekili olarak davadan feragat eden Av[CENSORED]'ın yetkilendirdiği anlaşılmıştır. \n",
      "\tBu durum karşısında Dairemizce ilk derece mahkemesi kararının kaldırılarak feragat nedeniyle davanın reddine ilişkin aşağıdaki şekilde hüküm tesis edilmiştir. \n",
      "\n",
      "HÜKÜM\t: Gerekçesi yukarıda belirtildiği üzere;\n",
      "\t1-Ankara 4. Fikri ve Sınaî Haklar Hukuk Mahkemesince verilen 13/12/2023 Tarih ve 2022/480 Esas - 2023/486 Karar sayılı kararının KALDIRILMASINA,\n",
      "\t2-Davanın FERAGAT NEDENİYLE REDDİNE,\n",
      "\t3-Davacının davadan feragat etmesi nedeniyle davacının istinaf itirazlarının incelenmesine yer olmadığına,\n",
      "\t4-Davacının ilk oturumdan sonra davadan feragat etmesi nedeniyle 492 sayılı Harçlar Kanunu uyarınca alınması gereken 427,60-TL ret harcının 2/3'ü olan 285,06 TL harcın ve 427,60 TL maktu başvurma harcı toplamından oluşan 712,66‬ TL harcın davacıdan alınarak hazineye irat kaydına,\n",
      "\t5-Davacı tarafından yapılan yargılama giderlerinin üzerinde bırakılmasına,\n",
      "\t6-Dava adli yardım talepli açıldığı için Hazineden karşılanan 3.000,00 TL bilirkişi ücreti, 699,00 TL tebligat ücreti olmak üzere toplam 3.699,00 TL'nin davacıdan tahsiliyle Hazineye gelir kaydına,\n",
      "\t7-Davalı şahıs tarafından istinaf aşamasında yapılan 328,00 TL posta masrafının davacıdan alınarak davalı şahsa verilmesine,\n",
      "\t8-Yatırılan ve kullanılmayan gider avansının, hükmün kesinleşmesini müteakip re'sen taraflara iadesine (HMK m.333),\n",
      "\t9-İstinaf aşamasında duruşma açılmadığından taraflar lehine vekalet ücreti takdirine yer olmadığına,\t\n",
      "Dair, dosya üzerinde yapılan inceleme sonucunda oybirliği ile 01/11/2024 tarihinde HMK 361. maddesi uyarınca kararın tebliğinden itibaren iki hafta içerisinde Yargıtay temyiz yolu açık olmak üzere karar verildi. \n",
      "\n",
      "\n",
      "GEREKÇELİ KARARIN YAZILDIĞI TARİH : 01/11/2024\t\t\n",
      "\n",
      "Başkan\n",
      "[CENSORED]\n",
      " \n",
      "\n",
      "Üye\n",
      "[CENSORED]\n",
      " \n",
      "\n",
      "Üye\n",
      "[CENSORED]\n",
      " \n",
      "\n",
      "Katip\n",
      "[CENSORED]\n",
      " \n",
      "\n",
      "\n",
      "\n",
      "\n",
      "\n",
      "\n",
      "\n",
      "\n",
      "\n",
      "\n",
      "\n",
      "\n",
      "\n",
      "\n",
      "\n",
      "\n",
      "\n",
      "\n",
      "\n",
      "\n",
      "\n",
      "\n",
      "\n",
      "\n",
      "\n",
      "\n",
      "\n",
      "\n",
      "\n",
      "\n",
      "\n",
      "\n",
      "\n",
      "\n",
      "\n",
      "\n",
      "  \n",
      "\n",
      "\n"
     ]
    }
   ],
   "source": [
    "parsed = html.fromstring(data['data'].replace('<br>', '\\n')).find('.//body').text_content()\n",
    "\n",
    "\n",
    "def replace_dots(input_string, replacement='[CENSORED]'):\n",
    "    # Replace consecutive dots with [DOT]\n",
    "    input_string = re.sub(r'(\\.){2,}', replacement, input_string)\n",
    "\n",
    "    # Replace dots and spaces with [DOT]\n",
    "    input_string = re.sub(r'((\\. ){2,})', replacement, input_string)\n",
    "    return input_string\n",
    "\n",
    "\n",
    "parsed = replace_dots(parsed)\n",
    "print(replace_dots(parsed))"
   ]
  },
  {
   "cell_type": "code",
   "execution_count": null,
   "metadata": {},
   "outputs": [
    {
     "name": "stdout",
     "output_type": "stream",
     "text": [
      "T\n",
      "C\n",
      "ANKARA BÖLGE ADLİYE MAHKEMESİ\n",
      "HUKUK DAİRESİ\n",
      "T\n",
      "C\n",
      "ANKARA\n",
      "BÖLGE ADLİYE MAHKEMESİ\n",
      "HUKUK DAİRESİ\n",
      "ESAS NO\n",
      "KARAR NO\n",
      "T Ü R K M İ L L E T İ A D I N A\n",
      "K A R A R\n",
      "BAŞKAN\n",
      "CENSORED\n",
      "CENSORED\n",
      "ÜYE\n",
      "CENSORED\n",
      "CENSORED\n",
      "ÜYE\n",
      "CENSORED\n",
      "CENSORED\n",
      "KATİP\n",
      "CENSORED\n",
      "CENSORED\n",
      "İNCELENEN KARARIN\n",
      "MAHKEMESİ\n",
      "ANKARA\n",
      "FİKRİ VE\n",
      "HAKLAR HUKUK\n",
      "MAHKEMESİ\n",
      "TARİHİ\n",
      "NUMARASI\n",
      "E\n",
      "K\n",
      "DAVACI\n",
      "VEKİLLERİ\n",
      "DAVALI\n",
      "DAVANIN KONUSU\n",
      "FSEK\n",
      "TARAFLARIN İDDİA VE SAVUNMALARININ ÖZETİ\n",
      "CENSORED\n",
      "FSEK\n",
      "FSEK\n",
      "İLK DERECE MAHKEMESİ KARARININ ÖZETİ\n",
      "İLERİ SÜRÜLEN İSTİNAF SEBEPLERİ\n",
      "FSEK\n",
      "GEREKÇE\n",
      "FSEK\n",
      "HMK\n",
      "HMK\n",
      "HMK\n",
      "CENSORED\n",
      "Y\n",
      "CENSORED\n",
      "CENSORED\n",
      "CENSORED\n",
      "HÜKÜM\n",
      "KALDIRILMASINA\n",
      "FERAGAT NEDENİYLE REDDİNE\n",
      "TL\n",
      "TL\n",
      "TL\n",
      "TL\n",
      "TL\n",
      "TL\n",
      "TL\n",
      "TL\n",
      "HMK\n",
      "HMK\n",
      "GEREKÇELİ KARARIN YAZILDIĞI TARİH\n",
      "CENSORED\n",
      "CENSORED\n",
      "CENSORED\n",
      "CENSORED\n"
     ]
    }
   ],
   "source": [
    "# def match_uppercase(text):\n",
    "#     # Pattern that handles Turkish uppercase characters and spaces between them\n",
    "#     # pattern = r'\\b[A-ZĞÜŞİÖÇ](?:[A-ZĞÜŞİÖÇ]|\\s)+\\b'\n",
    "#     # Alternative pattern with line break consideration\n",
    "#     pattern = r'(?:\\b[A-ZĞÜŞİÖÇ]+(?:\\s+[A-ZĞÜŞİÖÇ]+)*\\b)(?![^\\n]*[A-ZĞÜŞİÖÇ])'\n",
    "\n",
    "#     # Or split by both line breaks and periods\n",
    "#     lines = re.split(r'[.\\n]', text)\n",
    "\n",
    "#     # # To find all matches\n",
    "#     # matches = re.findall(pattern, text)\n",
    "\n",
    "#     # # Clean up the matches (remove extra spaces and strip)\n",
    "#     # cleaned_matches = [' '.join(match.split()) for match in matches]\n",
    "#     # return cleaned_matches\n",
    "#     return lines\n",
    "\n",
    "def match_uppercase(text):\n",
    "    # Pattern to match different types of uppercase word groups\n",
    "    # pattern = r'(?:\\b[A-ZĞÜŞİÖÇ]+(?:\\s+[A-ZĞÜŞİÖÇ]+)*\\b|\\b[A-ZĞÜŞİÖÇ](?:\\s+[A-ZĞÜŞİÖÇ])*\\b)'\n",
    "    # pattern = r'(?:\\b[A-ZĞÜŞİÖÇ]+(?:\\s+[A-ZĞÜŞİÖÇ]+)*\\b)'\n",
    "    # \\b[A-ZĞÜŞİÖÇ](\\.[A-ZĞÜŞİÖÇ])*\\.?\\b\n",
    "    pattern = r'(?:\\b[A-ZĞÜŞİÖÇ]+(?:\\s+[A-ZĞÜŞİÖÇ]+)*\\b|\\b[A-ZĞÜŞİÖÇ](?:\\s+[A-ZĞÜŞİÖÇ])*\\b)'\n",
    "\n",
    "    # For text with line breaks, you can split first\n",
    "    lines = text.split('\\n')\n",
    "    all_matches = []\n",
    "\n",
    "    for line in lines:\n",
    "        matches = re.findall(pattern, line.strip())\n",
    "        if matches:\n",
    "            all_matches.extend(matches)\n",
    "\n",
    "    # Clean up matches (remove extra spaces)\n",
    "    cleaned_matches = [' '.join(match.split()) for match in all_matches]\n",
    "    return cleaned_matches\n",
    "\n",
    "for i in match_uppercase(parsed):\n",
    "    print(i)"
   ]
  },
  {
   "cell_type": "code",
   "execution_count": null,
   "metadata": {},
   "outputs": [],
   "source": [
    "strings = list()\n",
    "for i in os.listdir(doc_dir):\n",
    "    if i.endswith('.json') is False:\n",
    "        continue\n",
    "    with open(os.path.join(doc_dir, i)) as f:\n",
    "        data = json.load(f)\n",
    "    strings.append(data['data'])"
   ]
  },
  {
   "cell_type": "code",
   "execution_count": 6,
   "metadata": {},
   "outputs": [],
   "source": [
    "import tiktoken\n",
    "encoding = tiktoken.encoding_for_model(\"gpt-4o-mini\")"
   ]
  },
  {
   "cell_type": "code",
   "execution_count": 9,
   "metadata": {},
   "outputs": [
    {
     "name": "stdout",
     "output_type": "stream",
     "text": [
      "Collecting tqdm\n",
      "  Using cached tqdm-4.67.0-py3-none-any.whl.metadata (57 kB)\n",
      "Using cached tqdm-4.67.0-py3-none-any.whl (78 kB)\n",
      "Installing collected packages: tqdm\n",
      "Successfully installed tqdm-4.67.0\n",
      "Note: you may need to restart the kernel to use updated packages.\n"
     ]
    },
    {
     "name": "stderr",
     "output_type": "stream",
     "text": [
      "100%|██████████| 21779/21779 [00:32<00:00, 668.83it/s]\n"
     ]
    }
   ],
   "source": [
    "%pip install tqdm -q\n",
    "from tqdm import tqdm\n",
    "\n",
    "lens = list()\n",
    "for i in tqdm(strings):\n",
    "    lens.append(len(encoding.encode(i)))"
   ]
  },
  {
   "cell_type": "code",
   "execution_count": 10,
   "metadata": {},
   "outputs": [],
   "source": [
    "count = 0\n",
    "for i in lens:\n",
    "    count += i"
   ]
  },
  {
   "cell_type": "code",
   "execution_count": 11,
   "metadata": {},
   "outputs": [
    {
     "data": {
      "text/plain": [
       "58069682"
      ]
     },
     "execution_count": 11,
     "metadata": {},
     "output_type": "execute_result"
    }
   ],
   "source": [
    "count"
   ]
  },
  {
   "cell_type": "code",
   "execution_count": 22,
   "metadata": {},
   "outputs": [],
   "source": [
    "element = tree.find('.//p')"
   ]
  },
  {
   "cell_type": "code",
   "execution_count": 25,
   "metadata": {},
   "outputs": [],
   "source": [
    "element.get('text')"
   ]
  },
  {
   "cell_type": "code",
   "execution_count": 18,
   "metadata": {},
   "outputs": [
    {
     "name": "stdout",
     "output_type": "stream",
     "text": [
      "<p align=\"justify\"><font face=\"Verdana\" size=\"2\">T.C.<br>İSTANBUL<br>BÖLGE ADLİYE MAHKEMESİ<br>43. HUKUK DAİRESİ<br>DOSYA NO: 2024/292 <br>KARAR NO: 2024/1278<br>T Ü R K  M İ L L E T İ  A D I N A<br>B Ö L G E  A D L İ Y E  M A H K E M E S İ   K A R A R I<br>İNCELENEN KARARIN<br>MAHKEMESİ: İSTANBUL 9. ASLİYE TİCARET MAHKEMESİ<br>TARİHİ: 19/12/2023<br>NUMARASI: 2023/699 Esas -  2023/960 Karar<br>DAVA: Banka Dışındaki Diğer Kredi Kuruluşlarına İlişkin Düzenlemelerden Kaynaklanan (Alacak)<br>İSTİNAF KARAR TARİHİ: 19/09/2024<br>Taraflar arasında görülen dava neticesinde ilk derece mahkemesince verilen hükmün davalı  vekilince istinaf edilmesi üzerine düzenlenen rapor ve dosya kapsamı incelenip gereği görüşülüp düşünüldü;<br>TARAFLARIN İDDİA VE SAVUNMALARININ ÖZETİ<br>DAVA: Davacı vekili dava dilekçesinde özetle;  müvekkili şirketin ... İhr. Ve Tic . Ltd. Şti. ve Japon firması olan ... arasında ticari ilişki bulunduğunu, ticari ilişki kapsamında 17.03.2020 tarihinde müvekkili şirket tarafından IBAN numar.ı ve alacaklı olan ...'un şirket ünvanı da belirtilerek, 33.820 EURO tutarında transfer (swift) işlemi gerçekleştirilmesi için davalı bankaya talimat verildiğini, bunun üzerine swift işleminin gerçekleştiğini  ve müvekkili şirketin davalı ... bank T.A.Ş. Bankası nezdindeki hesabından ... referans numarası ile  33.820 EURO, ...bank aracılığıyla IBAN numarasının ait olduğu muhabir banka olan yurt dışındaki ... Bankasına transfer edildiğini, müvekkili şirketin 17/03/2020 tarihinde işbu swift işleminin yapılması için ... bank'a talimat göndermesi sonrasında ödemenin .. firması hesabına ulaşmadığı belirtildiğini, bu sırada müvekkili şirketten söz konusu işleme yönelik teyit yazısı talep edildiğini, bu kapsamda bankanın müvekkili şirketten istediği teyidin içeriğinin \"IBAN numarasına paranın yatırılması\" na ilişkin olduğunu, müvekkili şirket yetkilisinin ... bank'a hitaben yazmış olduğu 18.03.2020 tarihli dilekçesiyle işlem talimatını yenilemiş olup, teyit yazısında \"...'nin Hollanda ... Bankası hesabına 33.820 EURO'nun gönderildiğini teyit ederim\" denilerek alıcı hesabın ... olduğunun özellikle vurgulandığını, akabinde ... şirketi ile yapılan görüşmelerde 18/03/2020 tarihli teyit yazısı sonrasında da ödemenin hesaba geçmediğinin anlaşıldığını, bunun üzerine müvekkili şirketten ikinci defa teyit yazısı istendiğini ve müvekkili şirket yetkilisinin 24/03/2020 tarihinde bir talimat daha gönderdiğini, her iki teyit yazısında da alıcı firma adı özellikle \"...\" olarak belirtildiğini,  talimat çok açık olmasına rağmen paranın IBAN'a yatırılması için tekrar tekrar teyit istendiğini, müvekkili şirketin hiçbir talimat veya teyit yazısında doğrudan IBAN'a para yatırılmasına ilişkin talebi söz konusu olmayıp, tüm yazılarda ödemenin ... şirketinin hesabına yatırılmasının vurgulandığını, müvekkili şirket tarafından ödemenin ... hesabına geçmediği ve IBAN'ın da alıcı hesapla uyuşmadığının öğrenildiğini,  bunun üzerine 25/03/2020 tarihinde durumun derhal davalıya ihbar edildiğini  ve verilen 25/03/2020 tarihli dilekçe ile karşı bankadaki alıcının IBAN numarasının yanlış olduğu bildirilerek, söz konusu işlemin iptal edilmesi ve 33.820 EURO nun müvekkili şirket hesabına iade edilmesi için talimat gönderildiğini, davalı banka şubesinde, müvekkili şirket yetkilisinden yazılı olarak \"paranın iade edilmesi için gerekli masrafların, iade edilecek tutardan mahsup edilmesine yönelik\" talimat alındığını, IBAN numarası ve alıcı hesabın uyuşmadığı hem davalı banka hem de muhabir banka tarafından fark edildiğini, buna rağmen müvekkilinde 33.820 EURO'nun  IBAN'a yatırılması yönünde iki defa teyit yazısının istenmesi, bankanın müvekkili şirketi açıkça zarara uğratma yönündeki kastını ortaya koyduğunu, bu tarihte para henüz karşı tarafa da aktarılmamış olduğu halde, bankanın durumu fark etmesine rağmen müvekkilini tuzağa düşürmeye çalışmış, kötü niyetli bir şekilde müvekkilinin bankaya olan güveni kullanılmış ve \"...\" ismi yazmayan yalnızca \"IBAN bilgisi\" yazan teyit yazısı alınmaya çalışıldığını,   davalı bankanın yanlışlığı bilmesine rağmen, müvekkili şirketi açıkça zarara uğratma pahasına  bu eylemi yapmasının, kastını ortaya koyduğunu, müvekkili şirkete miktarın iade edilmesi için gerekli faaliyetleri yapmayan ve tutarın iadesini sağlamayan davalının  kusurlu olduğunu, yasal düzenlemeler uyarınca davalı ... BANK'ın ayrıca alıcı adı ve IBAN numarasını karşılaştırma yükümlülüğü de bulunduğunu, davacı müvekkilinin swift işleminin gerçekleşmesi için davalıya alıcı firmanın adı ve IBAN bilgilerinin defalarca belirtildiğini, bu durumda artık davalı ... bank'ın ilgili parayı göndermeden önce muhabir bankayla iletişime geçerek alıcı bilgileri ve IBAN karşılaştırması ile mevzuattan kaynaklanan yükümlülüğünü yerine getirmek suretiyle doğrulama işlemi yapması gerekirken, bu yükümlülüğünü yerine getirmemesi de müvekkilinin zarara uğramasına sebebiyet vererek davalı bankanın kusurlu olduğunu, geçen süre zarfında müvekkili şirketin zarara uğradığını ve işlem tutarının iade edilmesini bekleyemeden ithalatı gerçekleştirmek amacıyla ...'a yeniden sipariş verdiğini, fakat şirketin ekonomik olarak zarara uğramış olması nedeniyle 27/03/2020 tarihinde yalnızca 12.500-USD tutarında ithalat yapılabildiğini, bu da müvekkili şirketin maddi zararının ne derece büyük olduğunu ortaya koyduğunu beyan ederek, fazlaya ilişkin tüm haklarımız saklı kalmak kaydıyla; 17.03.2020 tarihli ... referans numarası ile sehven gerçekleştirilen ve müvekkili şirket tarafından iptal edilen swift işleminden kaynaklanan 33.820 EURO tutarın, temerrüt tarihinden itibaren devlet bankalarının Euro ile açılmış bir yıl vadeli mevduat hesabına ödediği en yüksek faiz oranının uygulanarak müvekkili şirkete iade edilmesine karar verilmesini talep ve dava etmiştir.<br>CEVAP: Davalı vekili cevap dilekçesinde özetle;  yetki, zamanaşımı  ve husumet yönünden itirazlarını belirterek, davacı tarafından müvekkili banka şubesine 17/03/2020 tarihinde talimat verildiğini  ve talimat  gereği, müvekkili banka şubesi tarafından gerçekleştirildiğini, müvekkili bankanın, 17/03/2020 tarihli “Peşin Mal Mukabili, Vesaik Mukabili İthalat Bedeli Transfer Talep Formu” başlıklı talimatı ile kendisine bildirilen tutar, IBAN numarası, alıcı adı ve karşı banka, diğer bir ifadeyle muhabir banka bilgileri çerçevesinde swift işlemini gerçekleştirdiğini, ancak işlem sonrası muhabir bankadan gelen bildirimler gereğince, müvekkili banka tarafından gönderici davacı firmadan teyit yazıları talep edildiğini  ve teyit yazılarının davacı firma tarafından verildiğini, 24/03/2020 tarihli talimatta davacı firma tarafından ithalat yapılan ...’nin verdiği proforma faturada yazan ... Bank IBAN hesap numarasının doğru olduğu, tutarın bu hesaba derhal yatmasının istendiği, aksi durumda geciken ithalattan dolayı ... Bank tarafından zarara uğrayacağının bildirildiği ve herhangi bir dolandırıcılık durumunun olmadığının beyan edildiğini, müvekkili bankanın swift talimatını aldığı ilk andan itibaren, talimatının gereğini yerine getirmek için gerekli işlemleri yaptığını ancak muhabir banka tarafından işlemin şüpheli işlem olabileceği, sahtecilik ya da dolandırıcılık mahiyetinde bir işlem olmaması için müvekkili bankaya dönüşler yapıldığını ve teyitler talep edildiğini,  bu nedenle müvekkili banka tarafından gönderici davacı firmadan işlemin gerçekleşebilmesi için teyit yazıları alındığını, davacı firma 24/03/2020 tarihli talimatında herhangi bir dolandırıcılık durumunun olmadığını ve işlemin gerçekleştirilmesini ifade ederken, 25/03/2020 tarihli talimatında karşı bankadaki alıcının IBAN numarasının yanlış olduğunu ve işlemin iptal edilmesini bildirdiğini,  30/03/2020 tarihli talimat ile de 17/03/2020 tarihli transfer emrinin iptalini, karşı bankadaki IBAN numarasının kendilerine e-mail ile hacker tarafından verildiğini, iş yaptıkları Japon firması ...’un mail adreslerinin hacklendiğini, yazışmalardan ve paranın transferinden kaynaklanacak masrafları kabul ettiklerini beyan ettiklerini, sonrasında  müvekkili banka tarafından davacıya çekilen cevabi ihtarnameden de anlaşılacağı üzere; muhabir banka tarafından 20.05.2020 tarihinde polis raporu iletilmesi durumunda paranın çoğunun iade edilebileceği müvekkili bankaya bildirildiğini  bu hususunda  davacı firmaya iletilmiş olmasına rağmen muhabir bankaya iletilmek üzere bir belge gelmediğini, davacı firmanın talimatıyla müvekkili banka şubesinin üzerine düşen yükümlülüğü yerine getirdiğini ve talimatta bildirilen IBAN ve alıcı adı doğrultusunda işlemi gerçekleştirdiğini  ancak muhabir banka tarafından işlemin içeriğinde sahtecilik ya da dolandırıcılık mahiyetinde şüpheli bir işlem olabileceği ihtimaliyle müvekkili bankaya geri bildirimler yapıldığını, bu geri bildirimlere karşılık müvekkili bankanın yine işlemin gerçekleştirilebilmesi için göndericiden işlemde dolandırıcılık olup olmadığı yönünde ve talimat içeriği konusunda teyit yazıları aldığını ve bu hususları muhabir bankaya iletmiş ise de muhabir banka tarafından işlemin şüpheli olması ihtimali dikkate alınarak işlem gerçekleşmediğini  ve transferi talep edilen tutarın blokeye alındığını, müvekkili bankanın üzerine düşen tüm yükümlülükleri yerine getirdiğini,  transferi talep edilen tutarın müvekkili banka uhdesinde olmadığını, müvekkili bankanın üzerine düşen tüm yükümlülükleri de yerine getirdiğini, müvekkiline karşı kusur atfedilmesi mümkün olmadığı gibi müvekkili aleyhine husumet de yöneltilemeyeceğini,  müvekkili bankanın talimatların gereğini yerine getirdiğini  ve transferi talep edilen tutar da müvekkili banka uhdesinde değil dolandırıcılık mahiyetinde bir işlem nedeniyle şüpheli işlem görülerek muhabir banka ... Bank uhdesinde blokeye alındığı bilgisinin kendilerine ulaştığını, müvekkili bankanın, tekrar etmek gerekirse davacı şirketin talimatları doğrultusunda işlem gerçekleştirdiğini,  muhabir bankanın geri dönüşleri kapsamında işlemin şüpheli işlem olabileceği bildirimlerini davacı firmaya ilettiğini,  teyit yazılarını alarak işlemin bir an önce sonuçlandırılması için yine muhabir banka ile gerekli yazışmaları yaparak üzerine düşen tüm yükümlülüğü yerine getirdiğini beyan ederek, yetki itirazının  kabul edilerek dosyanın yetkili İstanbul (Çağlayan) Asliye Ticaret Mahkemesine gönderilmesine, aksi halde müvekkiline karşı kusur atfedilemeyeceğinden ve husumet yöneltilemeyeceğinden davanın esastan reddine karar verilmesini talep etmiştir.<br>İLK DERECE MAHKEMESİ KARARI: İstinaf incelemesine konu kararı veren ilk derece Mahkemesince eldeki dava hakkında yapılan yargılama sonunda, \" Davanın konusuz kalması sebebiyle davanın esası hakkında bir karar verilmesine gerek bulunmayan hallerde, hakim, davanın açıldığı tarihteki tarafların haklılık durumuna göre yargılama giderlerini takdir ve hükmedecektir. Davacı vekilinin, davaya konu  borcun dava tarihinden sonra davalı yanca ödendiği ve böylece davanın konusuz kaldığını bildirdiği, tarafların vekalet ücreti ve yargılama gideri taleplerinin devam ettiğini bildirmeleri karşısında, her ne kadar, davalı banka tarafından, davacıya gönderilen,  Fethiye ...Noterliği’nin 10/06/2020 tarih, ... yevmiye nolu cevabi ihtarnamesi ile  muhabir/lehdar bankadan davaya konu tutara ilişkin işlemin iadesinin istendiği şeklinde beyanda bulunulmuş ise de, iş  bu davaya karşı,  davanın kabul edilmediği şeklinde yazılı cevap sunulmuş  ve dava devam ederken, davaya konu tutar, 03/06/2021 tarihinde davacının hesabına iade edilmiş olduğu anlaşıldığından, davayı kabul etmeyen ve davanın açılmasına sebebiyet veren davalı aleyhine, vekalet ücreti ve yargılama giderlerinin hükmedilmesine, davacının, davasının konusuz kalması nedeniyle esas hakkında karar verilmesine yer olmadığına, ...\" karar verilmiştir.<br>İLERİ SÜRÜLEN İSTİNAF SEBEPLERİ: Davalı vekili istinaf dilekçesinde özetle; 6100 sayılı Hukuk Muhakemeleri Kanununun 331. maddesinde;  davanın konusuz kalması sebebiyle davanın esası hakkında bir karar verilmesine gerek bulunmayan hâllerde hâkimin, davanın açıldığı tarihteki tarafların haklılık durumuna göre yargılama giderlerini takdir ve hükmeder.\" bu durumda mahkemece yapılması gereken yargılamayı sürdürerek dava açıldığı zaman hangi tarafın haksız olduğunu tespit edip o tarafı yargılama giderlerinden sorumlu tutmakta olduğunu, somut olay bağlamında davalı bankanın üzerine düşen gerekli ve makul; özen ve dikkat yükümlülüğünü yerine getirdiğini, ilgili işleme ilişkin gerekli teyitlerde bulunduğunu, davanın açılmasına kendi kusuru nedeni ile sebep olmadığını, davalı bankanın davacının talimatlarına uygun hareket ettiğini, dava konusu tutarı uhdesinde bulundurmadığı, ilgili tutara yurt dışı banka tarafından bloke konulduğu ve davanın açıldığı tarihte de davalı bankanın hiçbir kusurunun bulunmadığı ortada iken davacı lehine vekalet ücretine hükmedilmesinin usul ve yasaya aykırı olduğunu, davalı bankanın, davacı firmadan alınan tüm talimatları muhabir ... Bank ile paylaştığını, dava konusu tutarın muhabir bankaya gönderildikten sonra şüpheli işlem nedeni ile muhabir banka ... Bank uhdesinde iken blokeye alındığını, somut olayda tutarın davalı bankada olmamasına ve hatta muhabir banka ... Bank tarafından bloke işlemi uygulanmışken davalı bankaya dava açılmasına anlam verilemediğini, huzurdaki davanın açılmasının ardından parayı uhdesinde bulunduran yurt dışı firma ile yazışmaların devam ettiğini, ilgili tutarın iadesinin talep edildiğini, ancak dava dışı bankanın blokedeki bedelin iadesini sağlamak üzere gerekli adımları atmak için polis raporunun zorunlu olduğunu ilettiğini, tüm bunların ardından davacının  01.06.2021 tarihinde polis raporunu bankaya ibraz ettiğini ve bu polis raporunun muhabir bankaya iletilmesi sonucunda blokenin kaldırıldığını ve tutarın bankaya iade edildiğini ve davalı banka tarafından davacı hesabına gönderildiğini,  davalı bankanın söz konusu husumetin tarafı konumunda dahi olmadığını, bu nedenle; işbu davanın açılmasına davalı bankanın sebebiyet vermediğini ve davanın açıldığı tarihte davalı bankanın haklı olduğunun da gözetilmek suretiyle yargılama giderleri ve vekalet ücretinin davacı tarafa yükletilmesi gerektiğini talep ve istinaf etmiştir. Davacı vekili istinafa cevap dilekçesinde özetle; davacı şirket tarafından IBAN numarası ve alacaklı olan ...'un şirket ünvanı da belirtilerek, 33.820 EURO tutarında transfer (swift) işlemi gerçekleştirilmesi için davalı bankaya talimat verildiğini, bunun üzerine swift işleminin gerçekleştiğini ve davacı şirketin davalı...bank T.A.Ş. Bankası nezdindeki hesabından ... referans numarası ile33.820 EURO, ... bank aracılığıyla IBAN numarasının ait olduğu muhabir banka olan yurt dışındaki ... Bankasına transfer edildiğini, davacı şirketin 17.03.2020 tarihinde işbu swift işleminin yapılması için ... bank'a talimat göndermesi sonrasında ödemenin ...firması hesabına ulaşmadığının belirtildiğini, bu sırada davacı şirketten söz konusu işleme yönelik teyit yazısı talep edildiğini, bu kapsamda bankanın davacı şirketten istediği teyidin içeriğinin \"IBAN numarasına paranın yatırılması\" na ilişkin olduğunu, davacı şirket yetkilisinin ... bank'a hitaben yazmış olduğu 18.03.2020 tarihli dilekçesiyle işlem talimatını yenilediğini, teyit yazısında \"...'nin Hollanda ... Bankası hesabına 33.820 EURO'nun gönderildiğini teyit ederim\" denilerek alıcı hesabın ...olduğu özellikle vurgulandığını, bunun üzerine davacı şirketten ikinci defa teyit yazısı istenmiş ve davacı şirket yetkilisinin 24.03.2020 tarihinde bir talimat daha gönderdiğini, bu tarihte para henüz karşı tarafa da aktarılmamış olduğu halde, bankanın durumu fark etmesine rağmen davacı şirketi tuzağa düşürmeye çalıştığını, kötü niyetli bir şekilde davacı şirketin bankaya olan güveninin kullanıldığını ve \"...\" ismi yazmayan yalnızca \"IBAN bilgisi\" yazan teyit yazısı alınmaya çalışıldığını, davalı bankanın yanlışlığı bilmesine rağmen, davacı şirketi açıkça zarara uğratma pahasına bu eylemi yapmasının, kastını ortaya koymakta olduğunu, davalı banka swift işleminin gerçekleşebilmesi için davacı şirketten 139,20 Euro işlem ücreti aldığını, ayrıca Muhabir Banka tarafından da bilinmeyen bir tutarda işlem ücreti kesintisi yapıldığını, banka tarafından alınan bu komisyonun, işlem tamamen ve doğru şekilde gerçekleşene kadar bankaya yükümlülük yüklemekte olduğunu, bu durumda davacı şirkete miktarın iade edilmesi için gerekli faaliyetleri yapmayan ve tutarın iadesini sağlamayan davalı ... bank'ın kusurlu olduğunu,yasal düzenlemeler uyarınca davalı ... bank'ın ayrıca alıcı adı ve IBAN numarasını karşılaştırma yükümlülüğü de bulunduğunu, davacının swift işleminin gerçekleşmesi için davalıya alıcı firmanın adı ve IBAN bilgilerini defalarca belirttiğini, davalı bankanın davacı şirketin zarara uğramasına sebebiyet verdiğini, davalı bankanın kusurlu olduğunun açıkça ortada olduğunu, dosyaya konu olan tutarın davalı tarafça davacı şirketin hesabına 03.06.2021 tarihinde aktarılmış olduğunu ve iş bu davanın konusuz kaldığını, davalı bankanın ücreti yatırarak bir nevi kusurunu kabul ettiğini,  işbu davanın açılmasına davalı bankanın sebebiyet verdiği gözetilmek suretiyle  yargılama giderleri ve vekalet ücretinin davalı tarafa yükletilmesi gerektiğini beyanla, istinaf talebinin reddine karar verilmesini talep etmiştir.<br>GEREKÇE:  Dava; davacının davalı banka nezdindeki hesabından yaptığı swift işleminden kaynaklı alacak istemine ilişkindir. İlk derece mahkemesince konusu kalmayan dava hakkında karar  verilmesine yer olmadığına ve başlangıçtaki haklılık durumuna göre vekalet ücretinin davalıya yükletilmesine karar verilmiş, karara karşı davalı vekilince  vekalet ücretine yönelik istinaf yasa yoluna başvurmuştur.Davanın konusuz kalması halinde işin esası hakkında infaz kabiliyeti olan bir hüküm kurulmamaktadır. Dava sırasında borcun ödenmesi, dava konusu menkul malın davacıya teslim edilmesi, kiralananın tahliye edilmesi, taşınmaza yönelik müdahaleye son verilmesi, dava konusu taşınmazın kamulaştırılması gibi hallerde mahkemece davanın konusuz kalması nedeni ile karar verilmesine yer olmadığına karar verilmelidir. Davanın konusuz kalması halinde mahkemenin yargılamaya devam ederek dava açıldığı zaman hangi tarafın haksız olduğunu tespit etmesi ve tutumuyla dava açılmasına sebep olan tarafı yargılama gideri ile mahkum etmesi gerekir.  6100 sayılı HMK’nun  yargılama giderlerinin kapsamını belirleyen  323/1-ğ maddesinde \"Vekille takip edilen davalarda kanun gereğince takdir olunacak vekâlet ücreti.\"   yargılama giderlerinden sayılmıştır.  Feragat ve kabul halinde yargılama giderlerini düzenleyen 312. maddesinin (2) fıkrası ile  \" Davalı, davanın açılmasına kendi hâl ve davranışıyla sebebiyet vermemiş ve yargılamanın ilk duruşmasında da davacının talep sonucunu kabul etmiş ise yargılama giderlerini ödemeye mahkûm edilmez.\" düzenlemesi getirilmiştir.  Aynı yasanın Esastan Sonuçlanmayan Davada Yargılama Gideri başlıklı 331.maddesinin 1.fıkrasında; davanın konusuz kalması sebebiyle davanın esası hakkında bir karar verilmesine gerek bulunmayan hâllerde, hâkimin, davanın açıldığı tarihteki tarafların haklılık durumuna göre yargılama giderlerini takdir ve hükmedeceği; “Yargılama Giderlerine Hükmedilmesi” başlıklı 332.maddesinde de; yargılama giderlerine, mahkemece resen hükmedileceği; yargılama gideri, tutarı, hangi tarafa ve hangi oranda yükletildiği ve dökümünün hüküm altında gösterileceği; hükümden sonraki yargılama giderlerini hangi tarafın ödeyeceği, miktarı ve dökümü ile bu giderlerin hangi tarafa yükletileceğinin, mahkemece ilamın altına yazılacağı, düzenlenmiştir. Davanın konusuz kalması halinde davalının yargılama giderinden sorumlu tutulmaması için yeter ve zorunlu tek şart davanın açılmasına sebebiyet verilmemesidir. (emsal Yargıtay Hukuk Genel Kurulu'nun 2013/1850 Esas 2015/1180 K. Sayılı ilamı) AAÜT'nin Genel Hükümlerinin 13. Maddesi ise \" Tarifelerin üçüncü kısmına göre ücret MADDE 13- (1) Bu Tarifenin ikinci kısmının ikinci bölümünde gösterilen hukuki yardımların konusu para veya para ile değerlendirilebiliyor ise avukatlık ücreti, davanın görüldüğü mahkeme için bu Tarifenin ikinci kısmında belirtilen maktu ücretlerin altında kalmamak kaydıyla (7 nci maddenin ikinci fıkrası, 10 uncu maddenin üçüncü fıkrası ile 12 nci maddenin birinci fıkrası, 16 ncı maddenin ikinci fıkrası hükümleri saklı kalmak kaydıyla) bu Tarifenin üçüncü kısmına göre belirlenir. (2) Ancak, hükmedilen ücret kabul veya reddedilen miktarı geçemez.\" düzenlemesini içermektedir.  Somut olayda davacının davalı bankadaki hesabından dava dışı ticari ilişkide bulunduğu ... Adlı firmanın dava dışı ... Bank N.V  Amsterdam şubesindeki hesabına yurt dışı havale  (swift) yapılmak üzere talimat verdiği, verdiği talimatta alıcı Iban numarasının alıcıya ait olmadığı, davalı bankaca kendisine verilen talimat doğrultusunda paranın yurt dışındaki lehtar bankaya gönderildiği, bilahare lehtar banka tarafından hesap sahibi ile ıban numarasının eşleşememesi nedeniyle davalı banka ile irtibat kurulması üzerine bankaca davacıyla iletişime geçildiği ve paranın iadesi için tüm işlemlerin yapıldığı, davalı tarafça havale edilen bedelin yurt dışındaki lehtar banka hesabına aktarılmış olması nedeniyle lehtar bankanın havalenin iadesi için talep ettiği işlem ve evrakların davacıya iletildiği, son olarak lehtar bankanın talep ettiği polis raporunun 01 Haziran 2021 tarihinde davalıya sunulup onun tarafından lehtar bankaya gönderilmesi üzerine paranın davalı bankaya iade edildiği ve davalı tarafından da 03/06/2021 tarihinde davacı hesabına aktarıldığı anlaşılmaktadır. Havalecinin ve lehdarın bankası farklı ülkelerde bulunmakta olup, ödeme bu bankaların bulunduğu ülkeler dışında, üçüncü bir ülkenin para birimi ile gerçekleştirilecek ise, karşılığın lehdarın bankasına aktarılmasında kural olarak, ilgili para biriminin ait olduğu ülkede bulunan, havalecinin ve lehdarın bankası ile hesap ilişki içinde olan bir muhabir bankaya başvurulur. Havale zincirine dahil olan muhabir banka, havalecinin bankasının havaleci ile olan ilişkisinde, kural olarak bu bankanın TBK'nın  116. maddesi gereğince yardımcı şahsı konumundadır. Davalı banka, havaleyi davacının gösterdiği IBAN numarasına ve davacının bildirdiği alıcı şirket unvanına göndermiştir. Bu durumda, IBAN numarasının alıcı unvanıyla uyumlu olup olmadığını davalı bankanın denetlemesi ve karşılaştırması mümkün değildir. Bu kontrolün, alıcının hesabının bulunduğu alıcının bankası ... Bank/ Amterdam tarafından yapılması üzerine davalının parasının iadesi sağlanmıştır. Paranın yanlış hesaba gönderilmesinde  tüm kusur   alıcı ıban numarası yanlış bildiren davacıdadır.  Dolayısıyla, havalenin yanlış Iban numarasına gönderilmesinde  davalı bankanın kusuru bulunmamaktadır. Yurtiçi EFT işlemlerinde alıcı ile IBAN eşleştirilmesi yurtiçi bankalar arasında işbirliği içinde ve teamül olarak gerçekleştirilmekle birlikte bunun yurt dışı para transferlerinde de geçerli olduğunu kabul etmek mümkün değildir. Davacının hatalı ıban numarası içeren  talimatıyla yurt dışındaki bankaya ait yanlış hesaba gönderilen havalenin iadesi  için  davalının yaptığı işlemler nedeniyle sorumlu tutulması da mümkün değildir. Davanın konusuz kalması halinde davalının yargılama giderinden sorumlu tutulmaması için yeter ve zorunlu tek şart  olan davanın açılmasına sebebiyet vermiş olması şartı somut olayda gerçekleşmediği, davacının davalıya yönelik dava açmakta haklı olmadığı sonucuna ulaşılmaktadır. Bu durumda yargılama giderlerinden davacının sorumlu tutulması gerekirken davalıyı sorumlu tutan ilk derece mahkemesi kararında isabet bulunmamaktadır. HMK'nın 355. maddesi uyarınca kamu düzenine aykırılık ve istinaf dilekçesinde belirtilen sebeplerle sınırlı olarak yapılan istinaf incelemesi sonunda; ilk derece mahkemesince yargılama giderlerinden davalının  sorumlu tutulması isabetli görülmemiş ve bu nedenle davalı vekilinin istinaf başvurusunun kabulü ile ilk derece mahkemesi kararının kaldırılmasına, yeniden yargılama yapılmasına gerek bulunmadığından dairemizce aşağıdaki şekilde hüküm kurulmuştur. \t<br>HÜKÜM:Yukarıda açıklanan nedenlerle: Davalı vekilinin istinaf başvurusunun KABULÜ İLE; istinaf incelemesine konu İlk Derece Mahkemesi kararının HMK'nın 353(1)b-2 maddesi uyarınca KALDIRILMASINA, Konusu kalmayan davanın esası  hakkında karar verilmesine yer olmadığına, Karar tarihinde yürürlükte bulunan Harçlar Tarifesine göre, alınması gereken 427,60 TL. harçtan, peşin alınan 5.556,14 TL harcın mahsubu ile fazla alınan 5.128,54 TL. harcın karar kesinleştiğinde ve talep halinde davacı tarafa iadesine,Karar tarihinde yürürlükte bulunan Avukatlık Asgari Ücret Tarifesi gereğince hesaplanan 50.802,20 TL vekalet ücretinin davacıdan alınarak davalıya verilmesine, Davacı tarafından yapılan  yargılama giderlerinin kendi üzerinde bırakılmasına, 6325 Sayılı Hukuk Uyuşmazlıklarında Arabuluculuk Kanununun 18/A-(11)-(13) maddesi ve Arabuluculuk Kanunu Yönetmeliği tarife hükümleri uyarınca Adalet Bakanlığı bütçesinden ödenen 1.320,00 TL arabuluculuk ücretinin tamamının, davacıdan tahsiliyle Hazineye irat kaydına, Gider avansından artan kısmın karar kesinleştiğinde Yazı İşleri Müdürlüğünce ilgilisine iadesine, 7-İstinaf incelemesi yönünden harç ve yargılama masrafları yönünden; a-Davalı vekilince yatırılan istinaf karar harcının istem halinde kendisine iadesine, b-Davalı tarafından istinaf aşamasında yapılan 180,00 TL posta masrafının davacı taraftan alınarak davalıya iadesine, Dair, dosya üzerinden yapılan inceleme sonunda, HMK'nın 362(1)a maddesi uyarınca kesin olarak oy birliğiyle karar verildi.19/09/2024</font></p>\n"
     ]
    }
   ],
   "source": [
    "import re\n",
    "\n",
    "# Pattern to match content between body tags\n",
    "pattern = r'<body[^>]*>(.*?)</body>'\n",
    "\n",
    "# Using re.DOTALL flag to match across multiple lines\n",
    "# Using re.IGNORECASE to match tags regardless of case\n",
    "regex = re.compile(pattern, re.DOTALL | re.IGNORECASE)\n",
    "\n",
    "# Find the match\n",
    "match = regex.search(data['data'])\n",
    "\n",
    "if match:\n",
    "    body_content = match.group(1)\n",
    "    print(body_content)"
   ]
  },
  {
   "cell_type": "code",
   "execution_count": 28,
   "metadata": {},
   "outputs": [
    {
     "name": "stdout",
     "output_type": "stream",
     "text": [
      "Note: you may need to restart the kernel to use updated packages.\n"
     ]
    }
   ],
   "source": [
    "%pip install tiktoken -q\n",
    "import tiktoken"
   ]
  },
  {
   "cell_type": "code",
   "execution_count": 27,
   "metadata": {},
   "outputs": [
    {
     "ename": "AttributeError",
     "evalue": "module 'tiktoken' has no attribute 'tokenize'",
     "output_type": "error",
     "traceback": [
      "\u001b[0;31m---------------------------------------------------------------------------\u001b[0m",
      "\u001b[0;31mAttributeError\u001b[0m                            Traceback (most recent call last)",
      "Cell \u001b[0;32mIn[27], line 1\u001b[0m\n\u001b[0;32m----> 1\u001b[0m \u001b[43mtiktoken\u001b[49m\u001b[38;5;241;43m.\u001b[39;49m\u001b[43mtokenize\u001b[49m(body_content)\n",
      "\u001b[0;31mAttributeError\u001b[0m: module 'tiktoken' has no attribute 'tokenize'"
     ]
    }
   ],
   "source": [
    "tiktoken.tokenize(body_content)"
   ]
  },
  {
   "cell_type": "code",
   "execution_count": null,
   "metadata": {},
   "outputs": [],
   "source": []
  }
 ],
 "metadata": {
  "kernelspec": {
   "display_name": "venv",
   "language": "python",
   "name": "python3"
  },
  "language_info": {
   "codemirror_mode": {
    "name": "ipython",
    "version": 3
   },
   "file_extension": ".py",
   "mimetype": "text/x-python",
   "name": "python",
   "nbconvert_exporter": "python",
   "pygments_lexer": "ipython3",
   "version": "3.10.13"
  }
 },
 "nbformat": 4,
 "nbformat_minor": 2
}
